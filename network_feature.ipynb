{
 "cells": [
  {
   "cell_type": "markdown",
   "id": "constant-madrid",
   "metadata": {},
   "source": [
    "# 링크 예측 전후 네트워크 내 노드들의 특성 비교 \n",
    "\n",
    "- 네트워크 내 노드 특성\n",
    "    - centrality\n",
    "    - weighted centrality\n",
    "    - betweeness centrality"
   ]
  },
  {
   "cell_type": "code",
   "execution_count": 1,
   "id": "spatial-ribbon",
   "metadata": {},
   "outputs": [],
   "source": [
    "import networkx as nx\n",
    "import numpy as np\n",
    "import pandas as pd\n",
    "import matplotlib.pyplot as plt"
   ]
  },
  {
   "cell_type": "code",
   "execution_count": 2,
   "id": "bacterial-jamaica",
   "metadata": {},
   "outputs": [],
   "source": [
    "before_link_prediction = pd.read_csv('network_data/contributor_coupling.csv', index_col=0)\n",
    "constructed_edge = pd.read_csv('result/constructed_edge_2.csv')\n",
    "meaning_edge = pd.read_csv('result/meaning_edge_2.csv')"
   ]
  },
  {
   "cell_type": "code",
   "execution_count": 3,
   "id": "thirty-endorsement",
   "metadata": {},
   "outputs": [],
   "source": [
    "edge_list_after_link_prediction = pd.concat([constructed_edge, meaning_edge]).reset_index()"
   ]
  },
  {
   "cell_type": "code",
   "execution_count": 4,
   "id": "double-techno",
   "metadata": {},
   "outputs": [],
   "source": [
    "def change_edge_list_to_adjacency(edge_list) :\n",
    "    G = nx.from_pandas_edgelist(edge_list, source='node1', target='node2').to_undirected()\n",
    "    adjacency = nx.to_pandas_adjacency(G)\n",
    "    return adjacency"
   ]
  },
  {
   "cell_type": "code",
   "execution_count": 5,
   "id": "relative-stretch",
   "metadata": {},
   "outputs": [],
   "source": [
    "after_link_prediction = change_edge_list_to_adjacency(edge_list_after_link_prediction)"
   ]
  },
  {
   "cell_type": "markdown",
   "id": "official-ethiopia",
   "metadata": {},
   "source": [
    "---"
   ]
  },
  {
   "cell_type": "markdown",
   "id": "opponent-florida",
   "metadata": {},
   "source": [
    "## Isolated node 제거\n",
    "   \n",
    "각 네트워크는 모두 isolate 노드를 가지고 있으므로 이를 사전에 제거해주기"
   ]
  },
  {
   "cell_type": "code",
   "execution_count": 6,
   "id": "three-constraint",
   "metadata": {},
   "outputs": [],
   "source": [
    "def remove_non_isolated_node(network) :\n",
    "    network_sum = network.sum()\n",
    "    non_isolated_node = list(network_sum[network_sum>0].index)\n",
    "    \n",
    "    return network.loc[non_isolated_node, non_isolated_node]"
   ]
  },
  {
   "cell_type": "code",
   "execution_count": 7,
   "id": "obvious-patient",
   "metadata": {},
   "outputs": [],
   "source": [
    "before_link_prediction = remove_non_isolated_node(before_link_prediction)\n",
    "after_link_prediction = remove_non_isolated_node(after_link_prediction)"
   ]
  },
  {
   "cell_type": "code",
   "execution_count": 8,
   "id": "running-march",
   "metadata": {},
   "outputs": [
    {
     "name": "stdout",
     "output_type": "stream",
     "text": [
      "Number of node before link prediction : 154\n",
      "Number of node after link prediction : 154\n"
     ]
    }
   ],
   "source": [
    "print('Number of node before link prediction : {}'.format(len(before_link_prediction.columns)))\n",
    "print('Number of node after link prediction : {}'.format(len(after_link_prediction.columns)))"
   ]
  },
  {
   "cell_type": "code",
   "execution_count": 9,
   "id": "least-hearts",
   "metadata": {},
   "outputs": [],
   "source": [
    "before_G = nx.from_pandas_adjacency(before_link_prediction)\n",
    "after_G = nx.from_pandas_adjacency(after_link_prediction)"
   ]
  },
  {
   "cell_type": "markdown",
   "id": "appreciated-coaching",
   "metadata": {},
   "source": [
    "---"
   ]
  },
  {
   "cell_type": "markdown",
   "id": "early-motivation",
   "metadata": {},
   "source": [
    "## 기본 네트워크 정보\n",
    "   \n",
    "- link prediction 이전 $\\rightarrow$ 노드 : 154개, 엣지 442개, average degree : 5.74 \n",
    "- link prediction 이후 $\\rightarrow$ 노드 : 154개, 엣지 654개, average degree : 8,49  \n",
    "\n",
    "link prediction 이후 노드는 일정하나 엣지는 오히려 증가   \n",
    "그에 따라 평균 degree도 5에서 8로 급증"
   ]
  },
  {
   "cell_type": "code",
   "execution_count": 10,
   "id": "stunning-consumer",
   "metadata": {},
   "outputs": [
    {
     "name": "stdout",
     "output_type": "stream",
     "text": [
      "Name: \n",
      "Type: Graph\n",
      "Number of nodes: 154\n",
      "Number of edges: 442\n",
      "Average degree:   5.7403\n"
     ]
    }
   ],
   "source": [
    "print(nx.info(before_G))"
   ]
  },
  {
   "cell_type": "code",
   "execution_count": 11,
   "id": "vocal-bearing",
   "metadata": {
    "scrolled": true
   },
   "outputs": [
    {
     "name": "stdout",
     "output_type": "stream",
     "text": [
      "Name: \n",
      "Type: Graph\n",
      "Number of nodes: 154\n",
      "Number of edges: 654\n",
      "Average degree:   8.4935\n"
     ]
    }
   ],
   "source": [
    "print(nx.info(after_G))"
   ]
  },
  {
   "cell_type": "markdown",
   "id": "classical-tumor",
   "metadata": {},
   "source": [
    "---"
   ]
  },
  {
   "cell_type": "markdown",
   "id": "medieval-planning",
   "metadata": {},
   "source": [
    "## 노드별 degree\n",
    "   \n",
    "Link prediction 이전과 이후 각 노드별 degree의 차이를 비교    \n",
    "    \n",
    "    \n",
    "link prediction 이전에 높은 degree를 가지고 있던 노드들이 그대로 link prediction 이후에도 유지되고 있음을 볼 수 있음   \n",
    "그중 가장 높은 degree를 가지고 있던 apollo는 degree가 11이 감소했음에도 여전히 degree값이 가장 큼"
   ]
  },
  {
   "cell_type": "code",
   "execution_count": 12,
   "id": "mobile-shower",
   "metadata": {},
   "outputs": [],
   "source": [
    "before_degree_ranking = pd.DataFrame(before_G.degree, columns=['repo name', 'degree']).sort_values(by='degree', ascending=False)\n",
    "after_degree_ranking = pd.DataFrame(after_G.degree, columns=['repo name', 'degree']).sort_values(by='degree', ascending=False)"
   ]
  },
  {
   "cell_type": "code",
   "execution_count": 13,
   "id": "relative-tyler",
   "metadata": {},
   "outputs": [
    {
     "data": {
      "text/html": [
       "<div>\n",
       "<style scoped>\n",
       "    .dataframe tbody tr th:only-of-type {\n",
       "        vertical-align: middle;\n",
       "    }\n",
       "\n",
       "    .dataframe tbody tr th {\n",
       "        vertical-align: top;\n",
       "    }\n",
       "\n",
       "    .dataframe thead th {\n",
       "        text-align: right;\n",
       "    }\n",
       "</style>\n",
       "<table border=\"1\" class=\"dataframe\">\n",
       "  <thead>\n",
       "    <tr style=\"text-align: right;\">\n",
       "      <th></th>\n",
       "      <th>repo name</th>\n",
       "      <th>degree</th>\n",
       "    </tr>\n",
       "  </thead>\n",
       "  <tbody>\n",
       "    <tr>\n",
       "      <th>15</th>\n",
       "      <td>ApolloAuto/apollo</td>\n",
       "      <td>41</td>\n",
       "    </tr>\n",
       "    <tr>\n",
       "      <th>7</th>\n",
       "      <td>udacity/CarND-Extended-Kalman-Filter-Project</td>\n",
       "      <td>20</td>\n",
       "    </tr>\n",
       "    <tr>\n",
       "      <th>29</th>\n",
       "      <td>deepdrive/deepdrive</td>\n",
       "      <td>19</td>\n",
       "    </tr>\n",
       "    <tr>\n",
       "      <th>91</th>\n",
       "      <td>bark-simulator/bark</td>\n",
       "      <td>19</td>\n",
       "    </tr>\n",
       "    <tr>\n",
       "      <th>55</th>\n",
       "      <td>BeamNG/BeamNGpy</td>\n",
       "      <td>19</td>\n",
       "    </tr>\n",
       "    <tr>\n",
       "      <th>41</th>\n",
       "      <td>joytafty-work/Rimchala_CarND-Traffic-Sign-Clas...</td>\n",
       "      <td>19</td>\n",
       "    </tr>\n",
       "    <tr>\n",
       "      <th>38</th>\n",
       "      <td>amodeus-science/amod</td>\n",
       "      <td>19</td>\n",
       "    </tr>\n",
       "    <tr>\n",
       "      <th>102</th>\n",
       "      <td>tier4/AutomanTools</td>\n",
       "      <td>19</td>\n",
       "    </tr>\n",
       "    <tr>\n",
       "      <th>63</th>\n",
       "      <td>TeamPerceptronics/Capstone</td>\n",
       "      <td>18</td>\n",
       "    </tr>\n",
       "    <tr>\n",
       "      <th>75</th>\n",
       "      <td>TeamDoernbach/SDCNanodegreeCapstone</td>\n",
       "      <td>18</td>\n",
       "    </tr>\n",
       "  </tbody>\n",
       "</table>\n",
       "</div>"
      ],
      "text/plain": [
       "                                             repo name  degree\n",
       "15                                   ApolloAuto/apollo      41\n",
       "7         udacity/CarND-Extended-Kalman-Filter-Project      20\n",
       "29                                 deepdrive/deepdrive      19\n",
       "91                                 bark-simulator/bark      19\n",
       "55                                     BeamNG/BeamNGpy      19\n",
       "41   joytafty-work/Rimchala_CarND-Traffic-Sign-Clas...      19\n",
       "38                                amodeus-science/amod      19\n",
       "102                                 tier4/AutomanTools      19\n",
       "63                          TeamPerceptronics/Capstone      18\n",
       "75                 TeamDoernbach/SDCNanodegreeCapstone      18"
      ]
     },
     "execution_count": 13,
     "metadata": {},
     "output_type": "execute_result"
    }
   ],
   "source": [
    "before_degree_ranking.head(10)"
   ]
  },
  {
   "cell_type": "code",
   "execution_count": 14,
   "id": "external-yukon",
   "metadata": {},
   "outputs": [
    {
     "data": {
      "text/html": [
       "<div>\n",
       "<style scoped>\n",
       "    .dataframe tbody tr th:only-of-type {\n",
       "        vertical-align: middle;\n",
       "    }\n",
       "\n",
       "    .dataframe tbody tr th {\n",
       "        vertical-align: top;\n",
       "    }\n",
       "\n",
       "    .dataframe thead th {\n",
       "        text-align: right;\n",
       "    }\n",
       "</style>\n",
       "<table border=\"1\" class=\"dataframe\">\n",
       "  <thead>\n",
       "    <tr style=\"text-align: right;\">\n",
       "      <th></th>\n",
       "      <th>repo name</th>\n",
       "      <th>degree</th>\n",
       "    </tr>\n",
       "  </thead>\n",
       "  <tbody>\n",
       "    <tr>\n",
       "      <th>99</th>\n",
       "      <td>ApolloAuto/apollo</td>\n",
       "      <td>39</td>\n",
       "    </tr>\n",
       "    <tr>\n",
       "      <th>93</th>\n",
       "      <td>amodeus-science/amod</td>\n",
       "      <td>21</td>\n",
       "    </tr>\n",
       "    <tr>\n",
       "      <th>144</th>\n",
       "      <td>joytafty-work/Rimchala_CarND-LaneLines-P1</td>\n",
       "      <td>21</td>\n",
       "    </tr>\n",
       "    <tr>\n",
       "      <th>125</th>\n",
       "      <td>tier4/AutomanTools</td>\n",
       "      <td>21</td>\n",
       "    </tr>\n",
       "    <tr>\n",
       "      <th>147</th>\n",
       "      <td>joytafty-work/Rimchala_CarND-Traffic-Sign-Clas...</td>\n",
       "      <td>21</td>\n",
       "    </tr>\n",
       "    <tr>\n",
       "      <th>114</th>\n",
       "      <td>deepdrive/deepdrive</td>\n",
       "      <td>21</td>\n",
       "    </tr>\n",
       "    <tr>\n",
       "      <th>149</th>\n",
       "      <td>Self-Driving-Car-NDegree-M-Russo/CarND-P1-Lane...</td>\n",
       "      <td>21</td>\n",
       "    </tr>\n",
       "    <tr>\n",
       "      <th>112</th>\n",
       "      <td>joytafty-work/Rimchala_CarND-Advanced-Lane-Lines</td>\n",
       "      <td>21</td>\n",
       "    </tr>\n",
       "    <tr>\n",
       "      <th>130</th>\n",
       "      <td>TeamDoernbach/SDCNanodegreeCapstone</td>\n",
       "      <td>20</td>\n",
       "    </tr>\n",
       "    <tr>\n",
       "      <th>120</th>\n",
       "      <td>DolphinDSL/dolphin</td>\n",
       "      <td>20</td>\n",
       "    </tr>\n",
       "  </tbody>\n",
       "</table>\n",
       "</div>"
      ],
      "text/plain": [
       "                                             repo name  degree\n",
       "99                                   ApolloAuto/apollo      39\n",
       "93                                amodeus-science/amod      21\n",
       "144          joytafty-work/Rimchala_CarND-LaneLines-P1      21\n",
       "125                                 tier4/AutomanTools      21\n",
       "147  joytafty-work/Rimchala_CarND-Traffic-Sign-Clas...      21\n",
       "114                                deepdrive/deepdrive      21\n",
       "149  Self-Driving-Car-NDegree-M-Russo/CarND-P1-Lane...      21\n",
       "112   joytafty-work/Rimchala_CarND-Advanced-Lane-Lines      21\n",
       "130                TeamDoernbach/SDCNanodegreeCapstone      20\n",
       "120                                 DolphinDSL/dolphin      20"
      ]
     },
     "execution_count": 14,
     "metadata": {},
     "output_type": "execute_result"
    }
   ],
   "source": [
    "after_degree_ranking.head(10)"
   ]
  },
  {
   "cell_type": "markdown",
   "id": "selective-belarus",
   "metadata": {},
   "source": [
    "---"
   ]
  },
  {
   "cell_type": "markdown",
   "id": "alpine-tribe",
   "metadata": {},
   "source": [
    "## 노드별 degree centrality\n",
    "   \n",
    "link prediction 이전과 이후 degree centrality의 차이를 비교\n",
    "   \n",
    "기본적으로 degree와 큰 차이가 없음"
   ]
  },
  {
   "cell_type": "code",
   "execution_count": 15,
   "id": "radical-communication",
   "metadata": {},
   "outputs": [],
   "source": [
    "def make_degree_centrality_df(data) :\n",
    "    data = pd.DataFrame.from_dict([nx.degree_centrality(data)]).T.reset_index()\n",
    "    data.columns = ['repo name', 'degree centrality']\n",
    "    data.sort_values(by='degree centrality', ascending=False, inplace=True)\n",
    "    \n",
    "    return data"
   ]
  },
  {
   "cell_type": "code",
   "execution_count": 16,
   "id": "curious-independence",
   "metadata": {},
   "outputs": [],
   "source": [
    "before_degree_centrality_ranking = make_degree_centrality_df(before_G)\n",
    "after_degree_centrality_ranking = make_degree_centrality_df(after_G)"
   ]
  },
  {
   "cell_type": "code",
   "execution_count": 17,
   "id": "golden-quantum",
   "metadata": {},
   "outputs": [
    {
     "data": {
      "text/html": [
       "<div>\n",
       "<style scoped>\n",
       "    .dataframe tbody tr th:only-of-type {\n",
       "        vertical-align: middle;\n",
       "    }\n",
       "\n",
       "    .dataframe tbody tr th {\n",
       "        vertical-align: top;\n",
       "    }\n",
       "\n",
       "    .dataframe thead th {\n",
       "        text-align: right;\n",
       "    }\n",
       "</style>\n",
       "<table border=\"1\" class=\"dataframe\">\n",
       "  <thead>\n",
       "    <tr style=\"text-align: right;\">\n",
       "      <th></th>\n",
       "      <th>repo name</th>\n",
       "      <th>degree centrality</th>\n",
       "    </tr>\n",
       "  </thead>\n",
       "  <tbody>\n",
       "    <tr>\n",
       "      <th>15</th>\n",
       "      <td>ApolloAuto/apollo</td>\n",
       "      <td>0.267974</td>\n",
       "    </tr>\n",
       "    <tr>\n",
       "      <th>7</th>\n",
       "      <td>udacity/CarND-Extended-Kalman-Filter-Project</td>\n",
       "      <td>0.130719</td>\n",
       "    </tr>\n",
       "    <tr>\n",
       "      <th>29</th>\n",
       "      <td>deepdrive/deepdrive</td>\n",
       "      <td>0.124183</td>\n",
       "    </tr>\n",
       "    <tr>\n",
       "      <th>91</th>\n",
       "      <td>bark-simulator/bark</td>\n",
       "      <td>0.124183</td>\n",
       "    </tr>\n",
       "    <tr>\n",
       "      <th>55</th>\n",
       "      <td>BeamNG/BeamNGpy</td>\n",
       "      <td>0.124183</td>\n",
       "    </tr>\n",
       "    <tr>\n",
       "      <th>41</th>\n",
       "      <td>joytafty-work/Rimchala_CarND-Traffic-Sign-Clas...</td>\n",
       "      <td>0.124183</td>\n",
       "    </tr>\n",
       "    <tr>\n",
       "      <th>38</th>\n",
       "      <td>amodeus-science/amod</td>\n",
       "      <td>0.124183</td>\n",
       "    </tr>\n",
       "    <tr>\n",
       "      <th>102</th>\n",
       "      <td>tier4/AutomanTools</td>\n",
       "      <td>0.124183</td>\n",
       "    </tr>\n",
       "    <tr>\n",
       "      <th>63</th>\n",
       "      <td>TeamPerceptronics/Capstone</td>\n",
       "      <td>0.117647</td>\n",
       "    </tr>\n",
       "    <tr>\n",
       "      <th>75</th>\n",
       "      <td>TeamDoernbach/SDCNanodegreeCapstone</td>\n",
       "      <td>0.117647</td>\n",
       "    </tr>\n",
       "  </tbody>\n",
       "</table>\n",
       "</div>"
      ],
      "text/plain": [
       "                                             repo name  degree centrality\n",
       "15                                   ApolloAuto/apollo           0.267974\n",
       "7         udacity/CarND-Extended-Kalman-Filter-Project           0.130719\n",
       "29                                 deepdrive/deepdrive           0.124183\n",
       "91                                 bark-simulator/bark           0.124183\n",
       "55                                     BeamNG/BeamNGpy           0.124183\n",
       "41   joytafty-work/Rimchala_CarND-Traffic-Sign-Clas...           0.124183\n",
       "38                                amodeus-science/amod           0.124183\n",
       "102                                 tier4/AutomanTools           0.124183\n",
       "63                          TeamPerceptronics/Capstone           0.117647\n",
       "75                 TeamDoernbach/SDCNanodegreeCapstone           0.117647"
      ]
     },
     "execution_count": 17,
     "metadata": {},
     "output_type": "execute_result"
    }
   ],
   "source": [
    "before_degree_centrality_ranking.head(10)"
   ]
  },
  {
   "cell_type": "code",
   "execution_count": 18,
   "id": "amino-husband",
   "metadata": {},
   "outputs": [
    {
     "data": {
      "text/html": [
       "<div>\n",
       "<style scoped>\n",
       "    .dataframe tbody tr th:only-of-type {\n",
       "        vertical-align: middle;\n",
       "    }\n",
       "\n",
       "    .dataframe tbody tr th {\n",
       "        vertical-align: top;\n",
       "    }\n",
       "\n",
       "    .dataframe thead th {\n",
       "        text-align: right;\n",
       "    }\n",
       "</style>\n",
       "<table border=\"1\" class=\"dataframe\">\n",
       "  <thead>\n",
       "    <tr style=\"text-align: right;\">\n",
       "      <th></th>\n",
       "      <th>repo name</th>\n",
       "      <th>degree centrality</th>\n",
       "    </tr>\n",
       "  </thead>\n",
       "  <tbody>\n",
       "    <tr>\n",
       "      <th>99</th>\n",
       "      <td>ApolloAuto/apollo</td>\n",
       "      <td>0.254902</td>\n",
       "    </tr>\n",
       "    <tr>\n",
       "      <th>93</th>\n",
       "      <td>amodeus-science/amod</td>\n",
       "      <td>0.137255</td>\n",
       "    </tr>\n",
       "    <tr>\n",
       "      <th>144</th>\n",
       "      <td>joytafty-work/Rimchala_CarND-LaneLines-P1</td>\n",
       "      <td>0.137255</td>\n",
       "    </tr>\n",
       "    <tr>\n",
       "      <th>125</th>\n",
       "      <td>tier4/AutomanTools</td>\n",
       "      <td>0.137255</td>\n",
       "    </tr>\n",
       "    <tr>\n",
       "      <th>147</th>\n",
       "      <td>joytafty-work/Rimchala_CarND-Traffic-Sign-Clas...</td>\n",
       "      <td>0.137255</td>\n",
       "    </tr>\n",
       "    <tr>\n",
       "      <th>114</th>\n",
       "      <td>deepdrive/deepdrive</td>\n",
       "      <td>0.137255</td>\n",
       "    </tr>\n",
       "    <tr>\n",
       "      <th>149</th>\n",
       "      <td>Self-Driving-Car-NDegree-M-Russo/CarND-P1-Lane...</td>\n",
       "      <td>0.137255</td>\n",
       "    </tr>\n",
       "    <tr>\n",
       "      <th>112</th>\n",
       "      <td>joytafty-work/Rimchala_CarND-Advanced-Lane-Lines</td>\n",
       "      <td>0.137255</td>\n",
       "    </tr>\n",
       "    <tr>\n",
       "      <th>130</th>\n",
       "      <td>TeamDoernbach/SDCNanodegreeCapstone</td>\n",
       "      <td>0.130719</td>\n",
       "    </tr>\n",
       "    <tr>\n",
       "      <th>120</th>\n",
       "      <td>DolphinDSL/dolphin</td>\n",
       "      <td>0.130719</td>\n",
       "    </tr>\n",
       "  </tbody>\n",
       "</table>\n",
       "</div>"
      ],
      "text/plain": [
       "                                             repo name  degree centrality\n",
       "99                                   ApolloAuto/apollo           0.254902\n",
       "93                                amodeus-science/amod           0.137255\n",
       "144          joytafty-work/Rimchala_CarND-LaneLines-P1           0.137255\n",
       "125                                 tier4/AutomanTools           0.137255\n",
       "147  joytafty-work/Rimchala_CarND-Traffic-Sign-Clas...           0.137255\n",
       "114                                deepdrive/deepdrive           0.137255\n",
       "149  Self-Driving-Car-NDegree-M-Russo/CarND-P1-Lane...           0.137255\n",
       "112   joytafty-work/Rimchala_CarND-Advanced-Lane-Lines           0.137255\n",
       "130                TeamDoernbach/SDCNanodegreeCapstone           0.130719\n",
       "120                                 DolphinDSL/dolphin           0.130719"
      ]
     },
     "execution_count": 18,
     "metadata": {},
     "output_type": "execute_result"
    }
   ],
   "source": [
    "after_degree_centrality_ranking.head(10)"
   ]
  },
  {
   "cell_type": "markdown",
   "id": "measured-teddy",
   "metadata": {},
   "source": [
    "---"
   ]
  },
  {
   "cell_type": "markdown",
   "id": "curious-variance",
   "metadata": {},
   "source": [
    "## 노드별 betweenness centrality\n",
    "   \n",
    "link prediction 이전과 이후 betweenness centrality의 차이를 비교\n",
    "   "
   ]
  },
  {
   "cell_type": "code",
   "execution_count": 19,
   "id": "younger-armenia",
   "metadata": {},
   "outputs": [],
   "source": [
    "def make_betweenness_centrality_df(data) :\n",
    "    data = pd.DataFrame.from_dict([nx.betweenness_centrality(data)]).T.reset_index()\n",
    "    data.columns = ['repo_name', 'betweenness_centrality']\n",
    "    data.sort_values(by='betweenness_centrality', ascending=False, inplace=True)\n",
    "    \n",
    "    return data"
   ]
  },
  {
   "cell_type": "code",
   "execution_count": 20,
   "id": "possible-palmer",
   "metadata": {},
   "outputs": [],
   "source": [
    "before_betweenness_centrality_ranking = make_betweenness_centrality_df(before_G)\n",
    "after_betweenness_centrality_ranking = make_betweenness_centrality_df(after_G)"
   ]
  },
  {
   "cell_type": "code",
   "execution_count": 21,
   "id": "under-berkeley",
   "metadata": {},
   "outputs": [
    {
     "data": {
      "text/html": [
       "<div>\n",
       "<style scoped>\n",
       "    .dataframe tbody tr th:only-of-type {\n",
       "        vertical-align: middle;\n",
       "    }\n",
       "\n",
       "    .dataframe tbody tr th {\n",
       "        vertical-align: top;\n",
       "    }\n",
       "\n",
       "    .dataframe thead th {\n",
       "        text-align: right;\n",
       "    }\n",
       "</style>\n",
       "<table border=\"1\" class=\"dataframe\">\n",
       "  <thead>\n",
       "    <tr style=\"text-align: right;\">\n",
       "      <th></th>\n",
       "      <th>repo_name</th>\n",
       "      <th>betweenness_centrality</th>\n",
       "    </tr>\n",
       "  </thead>\n",
       "  <tbody>\n",
       "    <tr>\n",
       "      <th>15</th>\n",
       "      <td>ApolloAuto/apollo</td>\n",
       "      <td>0.209532</td>\n",
       "    </tr>\n",
       "    <tr>\n",
       "      <th>23</th>\n",
       "      <td>carla-simulator/carla</td>\n",
       "      <td>0.048435</td>\n",
       "    </tr>\n",
       "    <tr>\n",
       "      <th>60</th>\n",
       "      <td>fzi-forschungszentrum-informatik/Lanelet2</td>\n",
       "      <td>0.039065</td>\n",
       "    </tr>\n",
       "    <tr>\n",
       "      <th>9</th>\n",
       "      <td>microsoft/AirSim</td>\n",
       "      <td>0.029906</td>\n",
       "    </tr>\n",
       "    <tr>\n",
       "      <th>7</th>\n",
       "      <td>udacity/CarND-Extended-Kalman-Filter-Project</td>\n",
       "      <td>0.019590</td>\n",
       "    </tr>\n",
       "    <tr>\n",
       "      <th>126</th>\n",
       "      <td>carla-simulator/leaderboard</td>\n",
       "      <td>0.013588</td>\n",
       "    </tr>\n",
       "    <tr>\n",
       "      <th>2</th>\n",
       "      <td>autorope/donkeycar</td>\n",
       "      <td>0.013201</td>\n",
       "    </tr>\n",
       "    <tr>\n",
       "      <th>129</th>\n",
       "      <td>MRWolves/donkeycar</td>\n",
       "      <td>0.013201</td>\n",
       "    </tr>\n",
       "    <tr>\n",
       "      <th>63</th>\n",
       "      <td>TeamPerceptronics/Capstone</td>\n",
       "      <td>0.009431</td>\n",
       "    </tr>\n",
       "    <tr>\n",
       "      <th>109</th>\n",
       "      <td>udacity-om/CarND-Capstone</td>\n",
       "      <td>0.009431</td>\n",
       "    </tr>\n",
       "  </tbody>\n",
       "</table>\n",
       "</div>"
      ],
      "text/plain": [
       "                                        repo_name  betweenness_centrality\n",
       "15                              ApolloAuto/apollo                0.209532\n",
       "23                          carla-simulator/carla                0.048435\n",
       "60      fzi-forschungszentrum-informatik/Lanelet2                0.039065\n",
       "9                                microsoft/AirSim                0.029906\n",
       "7    udacity/CarND-Extended-Kalman-Filter-Project                0.019590\n",
       "126                   carla-simulator/leaderboard                0.013588\n",
       "2                              autorope/donkeycar                0.013201\n",
       "129                            MRWolves/donkeycar                0.013201\n",
       "63                     TeamPerceptronics/Capstone                0.009431\n",
       "109                     udacity-om/CarND-Capstone                0.009431"
      ]
     },
     "execution_count": 21,
     "metadata": {},
     "output_type": "execute_result"
    }
   ],
   "source": [
    "before_betweenness_centrality_ranking.head(10)"
   ]
  },
  {
   "cell_type": "code",
   "execution_count": 22,
   "id": "separate-adapter",
   "metadata": {
    "scrolled": false
   },
   "outputs": [
    {
     "data": {
      "text/html": [
       "<div>\n",
       "<style scoped>\n",
       "    .dataframe tbody tr th:only-of-type {\n",
       "        vertical-align: middle;\n",
       "    }\n",
       "\n",
       "    .dataframe tbody tr th {\n",
       "        vertical-align: top;\n",
       "    }\n",
       "\n",
       "    .dataframe thead th {\n",
       "        text-align: right;\n",
       "    }\n",
       "</style>\n",
       "<table border=\"1\" class=\"dataframe\">\n",
       "  <thead>\n",
       "    <tr style=\"text-align: right;\">\n",
       "      <th></th>\n",
       "      <th>repo_name</th>\n",
       "      <th>betweenness_centrality</th>\n",
       "    </tr>\n",
       "  </thead>\n",
       "  <tbody>\n",
       "    <tr>\n",
       "      <th>99</th>\n",
       "      <td>ApolloAuto/apollo</td>\n",
       "      <td>0.419133</td>\n",
       "    </tr>\n",
       "    <tr>\n",
       "      <th>94</th>\n",
       "      <td>carla-simulator/carla</td>\n",
       "      <td>0.239035</td>\n",
       "    </tr>\n",
       "    <tr>\n",
       "      <th>59</th>\n",
       "      <td>erdos-project/erdos</td>\n",
       "      <td>0.138975</td>\n",
       "    </tr>\n",
       "    <tr>\n",
       "      <th>17</th>\n",
       "      <td>PacktPublishing/Hands-On-Vision-and-Behavior-f...</td>\n",
       "      <td>0.130289</td>\n",
       "    </tr>\n",
       "    <tr>\n",
       "      <th>106</th>\n",
       "      <td>fzi-forschungszentrum-informatik/oadrive-bsd</td>\n",
       "      <td>0.103113</td>\n",
       "    </tr>\n",
       "    <tr>\n",
       "      <th>20</th>\n",
       "      <td>tier4/AutowareArchitectureProposal.proj</td>\n",
       "      <td>0.091743</td>\n",
       "    </tr>\n",
       "    <tr>\n",
       "      <th>125</th>\n",
       "      <td>tier4/AutomanTools</td>\n",
       "      <td>0.087655</td>\n",
       "    </tr>\n",
       "    <tr>\n",
       "      <th>107</th>\n",
       "      <td>fzi-forschungszentrum-informatik/aadc2016</td>\n",
       "      <td>0.084365</td>\n",
       "    </tr>\n",
       "    <tr>\n",
       "      <th>6</th>\n",
       "      <td>CankayaUniversity/ceng-407-408-2020-2021-3D-Ob...</td>\n",
       "      <td>0.074303</td>\n",
       "    </tr>\n",
       "    <tr>\n",
       "      <th>30</th>\n",
       "      <td>bark-simulator/bark-ml</td>\n",
       "      <td>0.065617</td>\n",
       "    </tr>\n",
       "  </tbody>\n",
       "</table>\n",
       "</div>"
      ],
      "text/plain": [
       "                                             repo_name  betweenness_centrality\n",
       "99                                   ApolloAuto/apollo                0.419133\n",
       "94                               carla-simulator/carla                0.239035\n",
       "59                                 erdos-project/erdos                0.138975\n",
       "17   PacktPublishing/Hands-On-Vision-and-Behavior-f...                0.130289\n",
       "106       fzi-forschungszentrum-informatik/oadrive-bsd                0.103113\n",
       "20             tier4/AutowareArchitectureProposal.proj                0.091743\n",
       "125                                 tier4/AutomanTools                0.087655\n",
       "107          fzi-forschungszentrum-informatik/aadc2016                0.084365\n",
       "6    CankayaUniversity/ceng-407-408-2020-2021-3D-Ob...                0.074303\n",
       "30                              bark-simulator/bark-ml                0.065617"
      ]
     },
     "execution_count": 22,
     "metadata": {},
     "output_type": "execute_result"
    }
   ],
   "source": [
    "after_betweenness_centrality_ranking.head(10)"
   ]
  },
  {
   "cell_type": "markdown",
   "id": "stretch-spiritual",
   "metadata": {},
   "source": [
    "---"
   ]
  },
  {
   "cell_type": "markdown",
   "id": "binary-bridges",
   "metadata": {},
   "source": [
    "## 노드별 betweenness centrality 증가량\n",
    "   \n",
    "link prediction 이전과 이후를 비교하여 betweenness centrality의 증가량이 가장 크거나 감소량이 가장 큰 5개의 노드 추출"
   ]
  },
  {
   "cell_type": "code",
   "execution_count": 23,
   "id": "following-softball",
   "metadata": {},
   "outputs": [],
   "source": [
    "new_before_betweenness_centrality_ranking = []\n",
    "\n",
    "for idx, row in before_betweenness_centrality_ranking.iterrows() :\n",
    "    if row.repo_name in list(after_betweenness_centrality_ranking.repo_name):\n",
    "        new_before_betweenness_centrality_ranking.append(row)\n",
    "new_before_betweenness_centrality_ranking = pd.DataFrame(new_before_betweenness_centrality_ranking)\n",
    "\n",
    "new_before_betweenness_centrality_ranking.sort_index(inplace=True)\n",
    "new_before_betweenness_centrality_ranking.reset_index(drop=True, inplace=True)\n",
    "new_before_betweenness_centrality_ranking.set_index('repo_name', inplace=True)\n",
    "\n",
    "after_betweenness_centrality_ranking.sort_index(inplace=True)\n",
    "after_betweenness_centrality_ranking.reset_index(drop=True, inplace=True)\n",
    "after_betweenness_centrality_ranking.set_index('repo_name', inplace=True)"
   ]
  },
  {
   "cell_type": "code",
   "execution_count": 28,
   "id": "stretch-label",
   "metadata": {},
   "outputs": [],
   "source": [
    "difference_betweenness = after_betweenness_centrality_ranking.subtract(new_before_betweenness_centrality_ranking, axis=1).sort_values(by='betweenness_centrality', ascending=False)\n",
    "difference_betweenness['betweenness_centrality'] = np.divide(difference_betweenness['betweenness_centrality'], new_before_betweenness_centrality_ranking['betweenness_centrality'])\n",
    "difference_betweenness.replace([np.inf], np.nan, inplace=True)\n",
    "difference_betweenness = difference_betweenness.dropna(axis=0).sort_values(by='betweenness_centrality', ascending=False)"
   ]
  },
  {
   "cell_type": "code",
   "execution_count": 34,
   "id": "medium-builder",
   "metadata": {},
   "outputs": [
    {
     "data": {
      "text/plain": [
       "betweenness_centrality    0.000344\n",
       "Name: bark-simulator/bark-ml, dtype: float64"
      ]
     },
     "execution_count": 34,
     "metadata": {},
     "output_type": "execute_result"
    }
   ],
   "source": [
    "new_before_betweenness_centrality_ranking.loc['bark-simulator/bark-ml', :]"
   ]
  },
  {
   "cell_type": "code",
   "execution_count": 33,
   "id": "australian-triple",
   "metadata": {},
   "outputs": [
    {
     "data": {
      "text/plain": [
       "betweenness_centrality    0.065617\n",
       "Name: bark-simulator/bark-ml, dtype: float64"
      ]
     },
     "execution_count": 33,
     "metadata": {},
     "output_type": "execute_result"
    }
   ],
   "source": [
    "after_betweenness_centrality_ranking.loc['bark-simulator/bark-ml', :]"
   ]
  },
  {
   "cell_type": "code",
   "execution_count": 35,
   "id": "controversial-register",
   "metadata": {},
   "outputs": [
    {
     "data": {
      "text/html": [
       "<div>\n",
       "<style scoped>\n",
       "    .dataframe tbody tr th:only-of-type {\n",
       "        vertical-align: middle;\n",
       "    }\n",
       "\n",
       "    .dataframe tbody tr th {\n",
       "        vertical-align: top;\n",
       "    }\n",
       "\n",
       "    .dataframe thead th {\n",
       "        text-align: right;\n",
       "    }\n",
       "</style>\n",
       "<table border=\"1\" class=\"dataframe\">\n",
       "  <thead>\n",
       "    <tr style=\"text-align: right;\">\n",
       "      <th></th>\n",
       "      <th>betweenness_centrality</th>\n",
       "    </tr>\n",
       "    <tr>\n",
       "      <th>repo_name</th>\n",
       "      <th></th>\n",
       "    </tr>\n",
       "  </thead>\n",
       "  <tbody>\n",
       "    <tr>\n",
       "      <th>purdue-arc/autonomous_car_RRT</th>\n",
       "      <td>545.333333</td>\n",
       "    </tr>\n",
       "    <tr>\n",
       "      <th>bark-simulator/bark-ml</th>\n",
       "      <td>189.750000</td>\n",
       "    </tr>\n",
       "    <tr>\n",
       "      <th>lgsvl/simulator</th>\n",
       "      <td>163.694050</td>\n",
       "    </tr>\n",
       "    <tr>\n",
       "      <th>tier4/AutowareArchitectureProposal.proj</th>\n",
       "      <td>93.826049</td>\n",
       "    </tr>\n",
       "    <tr>\n",
       "      <th>tier4/AutomanTools</th>\n",
       "      <td>11.701016</td>\n",
       "    </tr>\n",
       "    <tr>\n",
       "      <th>whats-in-a-name/CarND-Capstone</th>\n",
       "      <td>7.638412</td>\n",
       "    </tr>\n",
       "    <tr>\n",
       "      <th>ZhuiFengChaseWind/Self-Driving_Car_Capstone</th>\n",
       "      <td>4.349703</td>\n",
       "    </tr>\n",
       "    <tr>\n",
       "      <th>carla-simulator/carla</th>\n",
       "      <td>3.935166</td>\n",
       "    </tr>\n",
       "    <tr>\n",
       "      <th>udacity/CarND-Unscented-Kalman-Filter-Project</th>\n",
       "      <td>2.559616</td>\n",
       "    </tr>\n",
       "    <tr>\n",
       "      <th>bedlamite5/CarND-Capstone</th>\n",
       "      <td>1.324940</td>\n",
       "    </tr>\n",
       "    <tr>\n",
       "      <th>udacity/self-driving-car-sim</th>\n",
       "      <td>1.163677</td>\n",
       "    </tr>\n",
       "    <tr>\n",
       "      <th>udacity-om/CarND-Capstone</th>\n",
       "      <td>1.005623</td>\n",
       "    </tr>\n",
       "    <tr>\n",
       "      <th>TeamPerceptronics/Capstone</th>\n",
       "      <td>1.005623</td>\n",
       "    </tr>\n",
       "    <tr>\n",
       "      <th>ApolloAuto/apollo</th>\n",
       "      <td>1.000336</td>\n",
       "    </tr>\n",
       "    <tr>\n",
       "      <th>usdot-fhwa-stol/carma-messenger</th>\n",
       "      <td>0.877637</td>\n",
       "    </tr>\n",
       "  </tbody>\n",
       "</table>\n",
       "</div>"
      ],
      "text/plain": [
       "                                               betweenness_centrality\n",
       "repo_name                                                            \n",
       "purdue-arc/autonomous_car_RRT                              545.333333\n",
       "bark-simulator/bark-ml                                     189.750000\n",
       "lgsvl/simulator                                            163.694050\n",
       "tier4/AutowareArchitectureProposal.proj                     93.826049\n",
       "tier4/AutomanTools                                          11.701016\n",
       "whats-in-a-name/CarND-Capstone                               7.638412\n",
       "ZhuiFengChaseWind/Self-Driving_Car_Capstone                  4.349703\n",
       "carla-simulator/carla                                        3.935166\n",
       "udacity/CarND-Unscented-Kalman-Filter-Project                2.559616\n",
       "bedlamite5/CarND-Capstone                                    1.324940\n",
       "udacity/self-driving-car-sim                                 1.163677\n",
       "udacity-om/CarND-Capstone                                    1.005623\n",
       "TeamPerceptronics/Capstone                                   1.005623\n",
       "ApolloAuto/apollo                                            1.000336\n",
       "usdot-fhwa-stol/carma-messenger                              0.877637"
      ]
     },
     "execution_count": 35,
     "metadata": {},
     "output_type": "execute_result"
    }
   ],
   "source": [
    "difference_betweenness.head(15)"
   ]
  },
  {
   "cell_type": "code",
   "execution_count": 30,
   "id": "qualified-intermediate",
   "metadata": {},
   "outputs": [
    {
     "data": {
      "text/html": [
       "<div>\n",
       "<style scoped>\n",
       "    .dataframe tbody tr th:only-of-type {\n",
       "        vertical-align: middle;\n",
       "    }\n",
       "\n",
       "    .dataframe tbody tr th {\n",
       "        vertical-align: top;\n",
       "    }\n",
       "\n",
       "    .dataframe thead th {\n",
       "        text-align: right;\n",
       "    }\n",
       "</style>\n",
       "<table border=\"1\" class=\"dataframe\">\n",
       "  <thead>\n",
       "    <tr style=\"text-align: right;\">\n",
       "      <th></th>\n",
       "      <th>betweenness_centrality</th>\n",
       "    </tr>\n",
       "    <tr>\n",
       "      <th>repo_name</th>\n",
       "      <th></th>\n",
       "    </tr>\n",
       "  </thead>\n",
       "  <tbody>\n",
       "    <tr>\n",
       "      <th>unstoppables/Real-Self-Driving-Car</th>\n",
       "      <td>-0.880789</td>\n",
       "    </tr>\n",
       "    <tr>\n",
       "      <th>bark-simulator/bark</th>\n",
       "      <td>-0.889223</td>\n",
       "    </tr>\n",
       "    <tr>\n",
       "      <th>BeamNG/BeamNGpy</th>\n",
       "      <td>-0.942123</td>\n",
       "    </tr>\n",
       "    <tr>\n",
       "      <th>usdot-fhwa-stol/carma-platform</th>\n",
       "      <td>-0.974684</td>\n",
       "    </tr>\n",
       "    <tr>\n",
       "      <th>KNR-Selfie/selfie_carolocup2020</th>\n",
       "      <td>-1.000000</td>\n",
       "    </tr>\n",
       "    <tr>\n",
       "      <th>Roboy/autonomous_driving_src</th>\n",
       "      <td>-1.000000</td>\n",
       "    </tr>\n",
       "    <tr>\n",
       "      <th>teamsoulless/self-driving-car-sim</th>\n",
       "      <td>-1.000000</td>\n",
       "    </tr>\n",
       "    <tr>\n",
       "      <th>KNR-Selfie/selfie_carolocup2019</th>\n",
       "      <td>-1.000000</td>\n",
       "    </tr>\n",
       "    <tr>\n",
       "      <th>tareeq-av/tareeqav</th>\n",
       "      <td>-1.000000</td>\n",
       "    </tr>\n",
       "    <tr>\n",
       "      <th>tokyo-drift/capstone-project</th>\n",
       "      <td>-1.000000</td>\n",
       "    </tr>\n",
       "  </tbody>\n",
       "</table>\n",
       "</div>"
      ],
      "text/plain": [
       "                                    betweenness_centrality\n",
       "repo_name                                                 \n",
       "unstoppables/Real-Self-Driving-Car               -0.880789\n",
       "bark-simulator/bark                              -0.889223\n",
       "BeamNG/BeamNGpy                                  -0.942123\n",
       "usdot-fhwa-stol/carma-platform                   -0.974684\n",
       "KNR-Selfie/selfie_carolocup2020                  -1.000000\n",
       "Roboy/autonomous_driving_src                     -1.000000\n",
       "teamsoulless/self-driving-car-sim                -1.000000\n",
       "KNR-Selfie/selfie_carolocup2019                  -1.000000\n",
       "tareeq-av/tareeqav                               -1.000000\n",
       "tokyo-drift/capstone-project                     -1.000000"
      ]
     },
     "execution_count": 30,
     "metadata": {},
     "output_type": "execute_result"
    }
   ],
   "source": [
    "difference_betweenness.tail(10)"
   ]
  },
  {
   "cell_type": "code",
   "execution_count": 27,
   "id": "subject-brazilian",
   "metadata": {},
   "outputs": [
    {
     "data": {
      "text/html": [
       "<div>\n",
       "<style scoped>\n",
       "    .dataframe tbody tr th:only-of-type {\n",
       "        vertical-align: middle;\n",
       "    }\n",
       "\n",
       "    .dataframe tbody tr th {\n",
       "        vertical-align: top;\n",
       "    }\n",
       "\n",
       "    .dataframe thead th {\n",
       "        text-align: right;\n",
       "    }\n",
       "</style>\n",
       "<table border=\"1\" class=\"dataframe\">\n",
       "  <thead>\n",
       "    <tr style=\"text-align: right;\">\n",
       "      <th></th>\n",
       "      <th>betweenness_centrality</th>\n",
       "    </tr>\n",
       "    <tr>\n",
       "      <th>repo_name</th>\n",
       "      <th></th>\n",
       "    </tr>\n",
       "  </thead>\n",
       "  <tbody>\n",
       "    <tr>\n",
       "      <th>joytafty-work/Rimchala_CarND-Vehicle-Detection</th>\n",
       "      <td>-0.880335</td>\n",
       "    </tr>\n",
       "    <tr>\n",
       "      <th>waymo-research/waymo-open-dataset</th>\n",
       "      <td>-0.565008</td>\n",
       "    </tr>\n",
       "    <tr>\n",
       "      <th>bark-simulator/bark</th>\n",
       "      <td>-0.889223</td>\n",
       "    </tr>\n",
       "    <tr>\n",
       "      <th>usdot-fhwa-stol/carma-platform</th>\n",
       "      <td>-0.974684</td>\n",
       "    </tr>\n",
       "    <tr>\n",
       "      <th>bmj-autonomous/donkey_ai</th>\n",
       "      <td>-0.653125</td>\n",
       "    </tr>\n",
       "    <tr>\n",
       "      <th>BeamNG/BeamNGpy</th>\n",
       "      <td>-0.942123</td>\n",
       "    </tr>\n",
       "    <tr>\n",
       "      <th>TeamDoernbach/SDCNanodegreeCapstone</th>\n",
       "      <td>-0.700166</td>\n",
       "    </tr>\n",
       "    <tr>\n",
       "      <th>tareeq-av/tareeqav</th>\n",
       "      <td>-1.000000</td>\n",
       "    </tr>\n",
       "    <tr>\n",
       "      <th>unstoppables/Real-Self-Driving-Car</th>\n",
       "      <td>-0.880789</td>\n",
       "    </tr>\n",
       "    <tr>\n",
       "      <th>carla-simulator/leaderboard</th>\n",
       "      <td>-0.594937</td>\n",
       "    </tr>\n",
       "  </tbody>\n",
       "</table>\n",
       "</div>"
      ],
      "text/plain": [
       "                                                betweenness_centrality\n",
       "repo_name                                                             \n",
       "joytafty-work/Rimchala_CarND-Vehicle-Detection               -0.880335\n",
       "waymo-research/waymo-open-dataset                            -0.565008\n",
       "bark-simulator/bark                                          -0.889223\n",
       "usdot-fhwa-stol/carma-platform                               -0.974684\n",
       "bmj-autonomous/donkey_ai                                     -0.653125\n",
       "BeamNG/BeamNGpy                                              -0.942123\n",
       "TeamDoernbach/SDCNanodegreeCapstone                          -0.700166\n",
       "tareeq-av/tareeqav                                           -1.000000\n",
       "unstoppables/Real-Self-Driving-Car                           -0.880789\n",
       "carla-simulator/leaderboard                                  -0.594937"
      ]
     },
     "execution_count": 27,
     "metadata": {},
     "output_type": "execute_result"
    }
   ],
   "source": [
    "difference_betweenness.tail(10)"
   ]
  },
  {
   "cell_type": "code",
   "execution_count": null,
   "id": "announced-international",
   "metadata": {},
   "outputs": [],
   "source": []
  },
  {
   "cell_type": "code",
   "execution_count": null,
   "id": "angry-makeup",
   "metadata": {},
   "outputs": [],
   "source": []
  },
  {
   "cell_type": "code",
   "execution_count": null,
   "id": "other-candy",
   "metadata": {},
   "outputs": [],
   "source": []
  },
  {
   "cell_type": "code",
   "execution_count": null,
   "id": "radical-payday",
   "metadata": {},
   "outputs": [],
   "source": []
  },
  {
   "cell_type": "code",
   "execution_count": null,
   "id": "optimum-marsh",
   "metadata": {},
   "outputs": [],
   "source": []
  },
  {
   "cell_type": "code",
   "execution_count": null,
   "id": "different-india",
   "metadata": {},
   "outputs": [],
   "source": []
  }
 ],
 "metadata": {
  "kernelspec": {
   "display_name": "Python 3",
   "language": "python",
   "name": "python3"
  },
  "language_info": {
   "codemirror_mode": {
    "name": "ipython",
    "version": 3
   },
   "file_extension": ".py",
   "mimetype": "text/x-python",
   "name": "python",
   "nbconvert_exporter": "python",
   "pygments_lexer": "ipython3",
   "version": "3.8.8"
  }
 },
 "nbformat": 4,
 "nbformat_minor": 5
}
